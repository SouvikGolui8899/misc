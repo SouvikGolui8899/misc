{
 "cells": [
  {
   "cell_type": "code",
   "execution_count": 1,
   "id": "dce83eee",
   "metadata": {},
   "outputs": [],
   "source": [
    "# 1. print required output\n",
    "# Input - hello,world,nitin\n",
    "# Output - nitin,world,hello"
   ]
  },
  {
   "cell_type": "code",
   "execution_count": 2,
   "id": "942d1d46",
   "metadata": {},
   "outputs": [],
   "source": [
    "s = 'hello,world,nitin'"
   ]
  },
  {
   "cell_type": "code",
   "execution_count": 4,
   "id": "e9522d8f",
   "metadata": {},
   "outputs": [
    {
     "data": {
      "text/plain": [
       "'nitin,world,hello'"
      ]
     },
     "execution_count": 4,
     "metadata": {},
     "output_type": "execute_result"
    }
   ],
   "source": [
    "','.join(s.split(',')[::-1])"
   ]
  },
  {
   "cell_type": "code",
   "execution_count": 32,
   "id": "4a280c52",
   "metadata": {},
   "outputs": [],
   "source": [
    "# 2. Fibonacci series\n",
    "def fib(n):\n",
    "    if n <= 1:\n",
    "        return n\n",
    "    else:\n",
    "        return fib(n-1) + fib(n-2)"
   ]
  },
  {
   "cell_type": "code",
   "execution_count": 33,
   "id": "b7cfaf57",
   "metadata": {},
   "outputs": [
    {
     "name": "stdout",
     "output_type": "stream",
     "text": [
      "[0, 1, 1, 2, 3, 5, 8, 13, 21, 34]\n"
     ]
    }
   ],
   "source": [
    "nterms = 9\n",
    "if nterms <= 0:\n",
    "    print(\"Invalid input\")\n",
    "else:\n",
    "    print([fib(i) for i in range(nterms+1)])"
   ]
  },
  {
   "cell_type": "code",
   "execution_count": 34,
   "id": "939b5233",
   "metadata": {},
   "outputs": [],
   "source": [
    "# 3. Print required output\n",
    "# input - abcdef , fibonacci - 112358\n",
    "# output - 20a1b1c2d3e5f8 (Sum + input + fibonacci)"
   ]
  },
  {
   "cell_type": "code",
   "execution_count": 35,
   "id": "3d12b062",
   "metadata": {},
   "outputs": [
    {
     "name": "stdout",
     "output_type": "stream",
     "text": [
      "20a1b1c2d3e5f8\n"
     ]
    }
   ],
   "source": [
    "s1 = 'abcdef'\n",
    "fibo = [1, 1, 2, 3, 5, 8]\n",
    "print(str(sum(fibo)) + ''.join([char1 + str(int1) for char1, int1 in zip(s1, fibo)]))"
   ]
  },
  {
   "cell_type": "code",
   "execution_count": 36,
   "id": "ce43966c",
   "metadata": {},
   "outputs": [
    {
     "name": "stdout",
     "output_type": "stream",
     "text": [
      "iulogkivuos\n"
     ]
    }
   ],
   "source": [
    "# 4. Reverse the string\n",
    "s = 'souvikgolui'\n",
    "print(s[::-1])"
   ]
  },
  {
   "cell_type": "code",
   "execution_count": 37,
   "id": "f373f07b",
   "metadata": {},
   "outputs": [
    {
     "data": {
      "text/plain": [
       "['hello', 'world']"
      ]
     },
     "execution_count": 37,
     "metadata": {},
     "output_type": "execute_result"
    }
   ],
   "source": [
    "# 5. What is a decorator ? Explain it with an example.\n",
    "# decorator function to convert to lowercase\n",
    "def lowercase_decorator(function):\n",
    "   def wrapper():\n",
    "       func = function()\n",
    "       string_lowercase = func.lower()\n",
    "       return string_lowercase\n",
    "   return wrapper\n",
    "# decorator function to split words\n",
    "def splitter_decorator(function):\n",
    "   def wrapper():\n",
    "       func = function()\n",
    "       string_split = func.split()\n",
    "       return string_split\n",
    "   return wrapper\n",
    "@splitter_decorator # this is executed next\n",
    "@lowercase_decorator # this is executed first\n",
    "def hello():\n",
    "   return 'Hello World'\n",
    "hello()   # output => [ 'hello' , 'world' ]"
   ]
  },
  {
   "cell_type": "code",
   "execution_count": 40,
   "id": "e8c360cb",
   "metadata": {},
   "outputs": [
    {
     "name": "stdout",
     "output_type": "stream",
     "text": [
      "A\n",
      "B\n",
      "C\n"
     ]
    }
   ],
   "source": [
    "# What are Python Iterators ?\n",
    "# An iterator is an object which contains a countable number of values and it is used to iterate over iterable objects\n",
    "# like list, tuple, sets, etc.\n",
    "# Every iterator is not a generator.\n",
    "iter_list = iter(['A', 'B', 'C'])\n",
    "print(next(iter_list))\n",
    "print(next(iter_list))\n",
    "print(next(iter_list))"
   ]
  },
  {
   "cell_type": "code",
   "execution_count": 41,
   "id": "3264d929",
   "metadata": {},
   "outputs": [],
   "source": [
    "# Have you ever used numpy or pandas ?\n",
    "# How to read a large CSV file (> 10 GB).\n",
    "\n",
    "# import pandas as pd\n",
    "# textFileReader = pd.read_csv('csv_file_name.csv', chunksize=10)\n",
    "# with pd.read_csv(\"csv_file_name.csv\", sep=\"|\", chunksize=10) as reader:\n",
    "#     for chunk in reader:\n",
    "#         print(chunk)"
   ]
  },
  {
   "cell_type": "code",
   "execution_count": 42,
   "id": "d148d368",
   "metadata": {},
   "outputs": [],
   "source": [
    "# What is MRO in python ?\n",
    "# MRO means Method Resolution Order\n",
    "# https://www.geeksforgeeks.org/method-resolution-order-in-python-inheritance/"
   ]
  },
  {
   "cell_type": "code",
   "execution_count": 43,
   "id": "909ef241",
   "metadata": {},
   "outputs": [],
   "source": [
    "# What is Lambda Function ?\n",
    "# "
   ]
  },
  {
   "cell_type": "code",
   "execution_count": 2,
   "id": "f37357cd",
   "metadata": {},
   "outputs": [
    {
     "data": {
      "text/html": [
       "<div>\n",
       "<style scoped>\n",
       "    .dataframe tbody tr th:only-of-type {\n",
       "        vertical-align: middle;\n",
       "    }\n",
       "\n",
       "    .dataframe tbody tr th {\n",
       "        vertical-align: top;\n",
       "    }\n",
       "\n",
       "    .dataframe thead th {\n",
       "        text-align: right;\n",
       "    }\n",
       "</style>\n",
       "<table border=\"1\" class=\"dataframe\">\n",
       "  <thead>\n",
       "    <tr style=\"text-align: right;\">\n",
       "      <th></th>\n",
       "      <th>col1</th>\n",
       "      <th>col2</th>\n",
       "      <th>col3</th>\n",
       "    </tr>\n",
       "  </thead>\n",
       "  <tbody>\n",
       "    <tr>\n",
       "      <th>0</th>\n",
       "      <td>1.0</td>\n",
       "      <td>A</td>\n",
       "      <td>NaN</td>\n",
       "    </tr>\n",
       "    <tr>\n",
       "      <th>1</th>\n",
       "      <td>2.0</td>\n",
       "      <td>B</td>\n",
       "      <td>NaN</td>\n",
       "    </tr>\n",
       "    <tr>\n",
       "      <th>2</th>\n",
       "      <td>3.0</td>\n",
       "      <td>C</td>\n",
       "      <td>NaN</td>\n",
       "    </tr>\n",
       "    <tr>\n",
       "      <th>3</th>\n",
       "      <td>NaN</td>\n",
       "      <td>A</td>\n",
       "      <td>1.0</td>\n",
       "    </tr>\n",
       "    <tr>\n",
       "      <th>4</th>\n",
       "      <td>NaN</td>\n",
       "      <td>B</td>\n",
       "      <td>2.0</td>\n",
       "    </tr>\n",
       "    <tr>\n",
       "      <th>5</th>\n",
       "      <td>NaN</td>\n",
       "      <td>C</td>\n",
       "      <td>3.0</td>\n",
       "    </tr>\n",
       "  </tbody>\n",
       "</table>\n",
       "</div>"
      ],
      "text/plain": [
       "   col1 col2  col3\n",
       "0   1.0    A   NaN\n",
       "1   2.0    B   NaN\n",
       "2   3.0    C   NaN\n",
       "3   NaN    A   1.0\n",
       "4   NaN    B   2.0\n",
       "5   NaN    C   3.0"
      ]
     },
     "execution_count": 2,
     "metadata": {},
     "output_type": "execute_result"
    }
   ],
   "source": [
    "# How to load bulk files in pandas ?\n",
    "import pandas as pd\n",
    "df1 = pd.DataFrame().from_dict({'col1': [1, 2, 3], 'col2': ['A', 'B', 'C']})\n",
    "df2 = pd.DataFrame().from_dict({'col3': [1, 2, 3], 'col2': ['A', 'B', 'C']})\n",
    "df3 = pd.concat([df1, df2], ignore_index=True)\n",
    "df3"
   ]
  },
  {
   "cell_type": "markdown",
   "id": "6dd236c8",
   "metadata": {},
   "source": [
    "# Second Round"
   ]
  },
  {
   "cell_type": "code",
   "execution_count": 46,
   "id": "12e7ec28",
   "metadata": {},
   "outputs": [],
   "source": [
    "# 1. Tell me about ypurself"
   ]
  },
  {
   "cell_type": "code",
   "execution_count": 48,
   "id": "b286b383",
   "metadata": {},
   "outputs": [],
   "source": [
    "# 2. Tell me about your projects that are relevant to the job."
   ]
  },
  {
   "cell_type": "code",
   "execution_count": 50,
   "id": "324b9cdb",
   "metadata": {},
   "outputs": [],
   "source": [
    "# 3. What is Lambda Function ?"
   ]
  },
  {
   "cell_type": "code",
   "execution_count": 4,
   "id": "efd2c6ae",
   "metadata": {},
   "outputs": [
    {
     "name": "stdout",
     "output_type": "stream",
     "text": [
      "[6, 5, 4, 3, 2, 1]\n"
     ]
    }
   ],
   "source": [
    "# 4. Reverse a list withou using any predefined function .\n",
    "l1 = [1, 2, 3, 4, 5, 6]\n",
    "fptr = 0\n",
    "rptr = len(l1) - 1\n",
    "while fptr < rptr:\n",
    "    l1[fptr], l1[rptr] = l1[rptr], l1[fptr]\n",
    "    fptr += 1\n",
    "    rptr -= 1\n",
    "print(l1)    "
   ]
  },
  {
   "cell_type": "code",
   "execution_count": 53,
   "id": "323ae88f",
   "metadata": {},
   "outputs": [],
   "source": [
    "# Which libraries you have worked in python. - json, os, numpy, pandas, request"
   ]
  },
  {
   "cell_type": "code",
   "execution_count": 5,
   "id": "813cfeab",
   "metadata": {},
   "outputs": [],
   "source": [
    "# How request library you used ? - in Django Project\n",
    "# import requests\n",
    "# resp = requests.post('http://{user}:{password}@{host}:{port}/{endpoint}')"
   ]
  },
  {
   "cell_type": "code",
   "execution_count": 10,
   "id": "0940d9c2",
   "metadata": {},
   "outputs": [
    {
     "name": "stdout",
     "output_type": "stream",
     "text": [
      "<!doctype html><html itemscope=\"\" itemtype=\"http://schema.org/WebPage\" lang=\"en-IN\"><head><meta content=\"text/html; charset=UTF-8\" http-equiv=\"Content-Type\"><meta content=\"/images/branding/googleg/1x/googleg_standard_color_128dp.png\" itemprop=\"image\"><title>Google</title><script nonce=\"uPg30B5cHwdbcYlKO9iyUw\">(function(){window.google={kEI:'CASPYuuKI9-o5OUPwP6q2AE',kEXPI:'0,1302536,54245,2628,6058,207,4804,2316,383,246,5,1354,4013,1123753,1197736,665,380090,16114,19397,9287,17572,4859,1361,9291,3027,17581,4020,978,13228,3847,10622,14763,7978,2370,4304,1279,2453,289,149,1103,841,6296,109,4011,2023,2297,14670,3227,2845,7,17450,16320,4465,13142,3,576,1014,1,3370,2074,804,10668,991,1661,4,1528,2304,7039,22023,3050,2658,7356,9816,3843,21223,5827,2530,4094,4052,3,3541,1,42154,2,14022,2715,11401,11623,3481,3218,2381,2718,18297,2,2,5,7718,4567,6256,23421,830,422,4570,2,2,5,1256,14968,4332,8,6081,1395,445,2,2,1,14776,2530,8889,1,436,8155,6401,181,799,2,127,1351,1563,858,7872,2907,7341,3217,1403,9834,1930,3187,3435,918,1632,607,23,6864,699,579,1664,2,1486,4197,209,1490,426,1491,3772,4546,261,2788,2261,71,497,43,219,24,2542,41,381,909,196,2444,515,510,100,781,79,222,1107,649,762,398,54,637,406,441,213,826,3527,282,269,2743,5410113,5101,73,100,58,5996098,2803693,3311,940,2,19729,1,1,284,62,23950485,2862026,1180116,1964,2935,159,1358,7393,3588,1239,2555,851',kBL:'kzjW'};google.sn='webhp';google.kHL='en-IN';})();(function(){\n",
      "var f=this||self;var h,k=[];function l(a){for(var b;a&&(!a.getAttribute||!(b=a.getAttribute(\"eid\")));)a=a.parentNode;return b||h}function m(a){for(var b=null;a&&(!a.getAttribute||!(b=a.getAttribute(\"leid\")));)a=a.parentNode;return b}\n",
      "function n(a,b,c,d,g){var e=\"\";c||-1!==b.search(\"&ei=\")||(e=\"&ei=\"+l(d),-1===b.search(\"&lei=\")&&(d=m(d))&&(e+=\"&lei=\"+d));d=\"\";!c&&f._cshid&&-1===b.search(\"&cshid=\")&&\"slh\"!==a&&(d=\"&cshid=\"+f._cshid);c=c||\"/\"+(g||\"gen_204\")+\"?atyp=i&ct=\"+a+\"&cad=\"+b+e+\"&zx=\"+Date.now()+d;/^http:/i.test(c)&&\"https:\"===window.location.protocol&&(google.ml&&google.ml(Error(\"a\"),!1,{src:c,glmm:1}),c=\"\");return c};h=google.kEI;google.getEI=l;google.getLEI=m;google.ml=function(){return null};google.log=function(a,b,c,d,g){if(c=n(a,b,c,d,g)){a=new Image;var e=k.length;k[e]=a;a.onerror=a.onload=a.onabort=function(){delete k[e]};a.src=c}};google.logUrl=n;}).call(this);(function(){\n",
      "google.y={};google.sy=[];google.x=function(a,b){if(a)var c=a.id;else{do c=Math.random();while(google.y[c])}google.y[c]=[a,b];return!1};google.sx=function(a){google.sy.push(a)};google.lm=[];google.plm=function(a){google.lm.push.apply(google.lm,a)};google.lq=[];google.load=function(a,b,c){google.lq.push([[a],b,c])};google.loadAll=function(a,b){google.lq.push([a,b])};google.bx=!1;google.lx=function(){};}).call(this);google.f={};(function(){\n",
      "document.documentElement.addEventListener(\"submit\",function(b){var a;if(a=b.target){var c=a.getAttribute(\"data-submitfalse\");a=\"1\"===c||\"q\"===c&&!a.elements.q.value?!0:!1}else a=!1;a&&(b.preventDefault(),b.stopPropagation())},!0);document.documentElement.addEventListener(\"click\",function(b){var a;a:{for(a=b.target;a&&a!==document.documentElement;a=a.parentElement)if(\"A\"===a.tagName){a=\"1\"===a.getAttribute(\"data-nohref\");break a}a=!1}a&&b.preventDefault()},!0);}).call(this);</script><style>#gbar,#guser{font-size:13px;padding-top:1px !important;}#gbar{height:22px}#guser{padding-bottom:7px !important;text-align:right}.gbh,.gbd{border-top:1px solid #c9d7f1;font-size:1px}.gbh{height:0;position:absolute;top:24px;width:100%}@media all{.gb1{height:22px;margin-right:.5em;vertical-align:top}#gbar{float:left}}a.gb1,a.gb4{text-decoration:underline !important}a.gb1,a.gb4{color:#00c !important}.gbi .gb4{color:#dd8e27 !important}.gbf .gb4{color:#900 !important}\n",
      "</style><style>body,td,a,p,.h{font-family:arial,sans-serif}body{margin:0;overflow-y:scroll}#gog{padding:3px 8px 0}td{line-height:.8em}.gac_m td{line-height:17px}form{margin-bottom:20px}.h{color:#1558d6}em{font-weight:bold;font-style:normal}.lst{height:25px;width:496px}.gsfi,.lst{font:18px arial,sans-serif}.gsfs{font:17px arial,sans-serif}.ds{display:inline-box;display:inline-block;margin:3px 0 4px;margin-left:4px}input{font-family:inherit}body{background:#fff;color:#000}a{color:#4b11a8;text-decoration:none}a:hover,a:active{text-decoration:underline}.fl a{color:#1558d6}a:visited{color:#4b11a8}.sblc{padding-top:5px}.sblc a{display:block;margin:2px 0;margin-left:13px;font-size:11px}.lsbb{background:#f8f9fa;border:solid 1px;border-color:#dadce0 #70757a #70757a #dadce0;height:30px}.lsbb{display:block}#WqQANb a{display:inline-block;margin:0 12px}.lsb{background:url(/images/nav_logo229.png) 0 -261px repeat-x;border:none;color:#000;cursor:pointer;height:30px;margin:0;outline:0;font:15px arial,sans-serif;vertical-align:top}.lsb:active{background:#dadce0}.lst:focus{outline:none}</style><script nonce=\"uPg30B5cHwdbcYlKO9iyUw\">(function(){window.google.erd={jsr:1,bv:1588,de:true};\n",
      "var f=this||self;var g,h=null!=(g=f.mei)?g:1,m,n=null!=(m=f.sdo)?m:!0,p=0,q,r=google.erd,u=r.jsr;google.ml=function(a,b,d,k,c){c=void 0===c?2:c;b&&(q=a&&a.message);if(google.dl)return google.dl(a,c,d),null;if(0>u){window.console&&console.error(a,d);if(-2===u)throw a;b=!1}else b=!a||!a.message||\"Error loading script\"===a.message||p>=h&&!k?!1:!0;if(!b)return null;p++;d=d||{};var e=c;c=encodeURIComponent;b=\"/gen_204?atyp=i&ei=\"+c(google.kEI);google.kEXPI&&(b+=\"&jexpid=\"+c(google.kEXPI));b+=\"&srcpg=\"+c(google.sn)+\"&jsr=\"+c(r.jsr)+\"&bver=\"+c(r.bv)+(\"&jsel=\"+e);e=a.lineNumber;void 0!==e&&(b+=\"&line=\"+\n",
      "e);var l=a.fileName;l&&(b+=\"&script=\"+c(l),e&&l===window.location.href&&(e=document.documentElement.outerHTML.split(\"\\n\")[e],b+=\"&cad=\"+c(e?e.substring(0,300):\"No script found.\")));for(var t in d)b+=\"&\",b+=c(t),b+=\"=\",b+=c(d[t]);b=b+\"&emsg=\"+c(a.name+\": \"+a.message);b=b+\"&jsst=\"+c(a.stack||\"N/A\");12288<=b.length&&(b=b.substr(0,12288));a=b;k||google.log(0,\"\",a);return a};window.onerror=function(a,b,d,k,c){q!==a&&(a=c instanceof Error?c:Error(a),void 0===d||\"lineNumber\"in a||(a.lineNumber=d),void 0===b||\"fileName\"in a||(a.fileName=b),google.ml(a,!1,void 0,!1,\"SyntaxError\"===a.name||\"SyntaxError\"===a.message.substring(0,11)?2:0));q=null;n&&p>=h&&(window.onerror=null)};})();</script></head><body bgcolor=\"#fff\"><script nonce=\"uPg30B5cHwdbcYlKO9iyUw\">(function(){var src='/images/nav_logo229.png';var iesg=false;document.body.onload = function(){window.n && window.n();if (document.images){new Image().src=src;}\n",
      "if (!iesg){document.f&&document.f.q.focus();document.gbqf&&document.gbqf.q.focus();}\n",
      "}\n",
      "})();</script><div id=\"mngb\"><div id=gbar><nobr><b class=gb1>Search</b> <a class=gb1 href=\"https://www.google.co.in/imghp?hl=en&tab=wi\">Images</a> <a class=gb1 href=\"https://maps.google.co.in/maps?hl=en&tab=wl\">Maps</a> <a class=gb1 href=\"https://play.google.com/?hl=en&tab=w8\">Play</a> <a class=gb1 href=\"https://www.youtube.com/?gl=IN&tab=w1\">YouTube</a> <a class=gb1 href=\"https://news.google.com/?tab=wn\">News</a> <a class=gb1 href=\"https://mail.google.com/mail/?tab=wm\">Gmail</a> <a class=gb1 href=\"https://drive.google.com/?tab=wo\">Drive</a> <a class=gb1 style=\"text-decoration:none\" href=\"https://www.google.co.in/intl/en/about/products?tab=wh\"><u>More</u> &raquo;</a></nobr></div><div id=guser width=100%><nobr><span id=gbn class=gbi></span><span id=gbf class=gbf></span><span id=gbe></span><a href=\"http://www.google.co.in/history/optout?hl=en\" class=gb4>Web History</a> | <a  href=\"/preferences?hl=en\" class=gb4>Settings</a> | <a target=_top id=gb_70 href=\"https://accounts.google.com/ServiceLogin?hl=en&passive=true&continue=https://www.google.com/webhp&ec=GAZAAQ\" class=gb4>Sign in</a></nobr></div><div class=gbh style=left:0></div><div class=gbh style=right:0></div></div><center><br clear=\"all\" id=\"lgpd\"><div id=\"lga\"><img alt=\"Google\" height=\"92\" src=\"/images/branding/googlelogo/1x/googlelogo_white_background_color_272x92dp.png\" style=\"padding:28px 0 14px\" width=\"272\" id=\"hplogo\"><br><br></div><form action=\"/search\" name=\"f\"><table cellpadding=\"0\" cellspacing=\"0\"><tr valign=\"top\"><td width=\"25%\">&nbsp;</td><td align=\"center\" nowrap=\"\"><input name=\"ie\" value=\"ISO-8859-1\" type=\"hidden\"><input value=\"en-IN\" name=\"hl\" type=\"hidden\"><input name=\"source\" type=\"hidden\" value=\"hp\"><input name=\"biw\" type=\"hidden\"><input name=\"bih\" type=\"hidden\"><div class=\"ds\" style=\"height:32px;margin:4px 0\"><input class=\"lst\" style=\"margin:0;padding:5px 8px 0 6px;vertical-align:top;color:#000\" autocomplete=\"off\" value=\"\" title=\"Google Search\" maxlength=\"2048\" name=\"q\" size=\"57\"></div><br style=\"line-height:0\"><span class=\"ds\"><span class=\"lsbb\"><input class=\"lsb\" value=\"Google Search\" name=\"btnG\" type=\"submit\"></span></span><span class=\"ds\"><span class=\"lsbb\"><input class=\"lsb\" id=\"tsuid1\" value=\"I'm Feeling Lucky\" name=\"btnI\" type=\"submit\"><script nonce=\"uPg30B5cHwdbcYlKO9iyUw\">(function(){var id='tsuid1';document.getElementById(id).onclick = function(){if (this.form.q.value){this.checked = 1;if (this.form.iflsig)this.form.iflsig.disabled = false;}\n",
      "else top.location='/doodles/';};})();</script><input value=\"AJiK0e8AAAAAYo8SGMCxPtSSwpL3xv5qPeRtDp-LBbSM\" name=\"iflsig\" type=\"hidden\"></span></span></td><td class=\"fl sblc\" align=\"left\" nowrap=\"\" width=\"25%\"><a href=\"/advanced_search?hl=en-IN&amp;authuser=0\">Advanced search</a></td></tr></table><input id=\"gbv\" name=\"gbv\" type=\"hidden\" value=\"1\"><script nonce=\"uPg30B5cHwdbcYlKO9iyUw\">(function(){\n",
      "var a,b=\"1\";if(document&&document.getElementById)if(\"undefined\"!=typeof XMLHttpRequest)b=\"2\";else if(\"undefined\"!=typeof ActiveXObject){var c,d,e=[\"MSXML2.XMLHTTP.6.0\",\"MSXML2.XMLHTTP.3.0\",\"MSXML2.XMLHTTP\",\"Microsoft.XMLHTTP\"];for(c=0;d=e[c++];)try{new ActiveXObject(d),b=\"2\"}catch(h){}}a=b;if(\"2\"==a&&-1==location.search.indexOf(\"&gbv=2\")){var f=google.gbvu,g=document.getElementById(\"gbv\");g&&(g.value=a);f&&window.setTimeout(function(){location.href=f},0)};}).call(this);</script></form><div id=\"gac_scont\"></div><div style=\"font-size:83%;min-height:3.5em\"><br><div id=\"gws-output-pages-elements-homepage_additional_languages__als\"><style>#gws-output-pages-elements-homepage_additional_languages__als{font-size:small;margin-bottom:24px}#SIvCob{color:#3c4043;display:inline-block;line-height:28px;}#SIvCob a{padding:0 3px;}.H6sW5{display:inline-block;margin:0 2px;white-space:nowrap}.z4hgWe{display:inline-block;margin:0 2px}</style><div id=\"SIvCob\">Google offered in:  <a href=\"https://www.google.com/setprefs?sig=0_vbi_s3WdBKCQAeR4tkDqNfbomow%3D&amp;hl=hi&amp;source=homepage&amp;sa=X&amp;ved=0ahUKEwjrrq_6q_z3AhVfFLkGHUC_ChsQ2ZgBCAU\">&#2361;&#2367;&#2344;&#2381;&#2342;&#2368;</a>    <a href=\"https://www.google.com/setprefs?sig=0_vbi_s3WdBKCQAeR4tkDqNfbomow%3D&amp;hl=bn&amp;source=homepage&amp;sa=X&amp;ved=0ahUKEwjrrq_6q_z3AhVfFLkGHUC_ChsQ2ZgBCAY\">&#2476;&#2494;&#2434;&#2482;&#2494;</a>    <a href=\"https://www.google.com/setprefs?sig=0_vbi_s3WdBKCQAeR4tkDqNfbomow%3D&amp;hl=te&amp;source=homepage&amp;sa=X&amp;ved=0ahUKEwjrrq_6q_z3AhVfFLkGHUC_ChsQ2ZgBCAc\">&#3108;&#3142;&#3122;&#3137;&#3095;&#3137;</a>    <a href=\"https://www.google.com/setprefs?sig=0_vbi_s3WdBKCQAeR4tkDqNfbomow%3D&amp;hl=mr&amp;source=homepage&amp;sa=X&amp;ved=0ahUKEwjrrq_6q_z3AhVfFLkGHUC_ChsQ2ZgBCAg\">&#2350;&#2352;&#2366;&#2336;&#2368;</a>    <a href=\"https://www.google.com/setprefs?sig=0_vbi_s3WdBKCQAeR4tkDqNfbomow%3D&amp;hl=ta&amp;source=homepage&amp;sa=X&amp;ved=0ahUKEwjrrq_6q_z3AhVfFLkGHUC_ChsQ2ZgBCAk\">&#2980;&#2990;&#3007;&#2996;&#3021;</a>    <a href=\"https://www.google.com/setprefs?sig=0_vbi_s3WdBKCQAeR4tkDqNfbomow%3D&amp;hl=gu&amp;source=homepage&amp;sa=X&amp;ved=0ahUKEwjrrq_6q_z3AhVfFLkGHUC_ChsQ2ZgBCAo\">&#2711;&#2753;&#2716;&#2736;&#2750;&#2724;&#2752;</a>    <a href=\"https://www.google.com/setprefs?sig=0_vbi_s3WdBKCQAeR4tkDqNfbomow%3D&amp;hl=kn&amp;source=homepage&amp;sa=X&amp;ved=0ahUKEwjrrq_6q_z3AhVfFLkGHUC_ChsQ2ZgBCAs\">&#3221;&#3240;&#3277;&#3240;&#3233;</a>    <a href=\"https://www.google.com/setprefs?sig=0_vbi_s3WdBKCQAeR4tkDqNfbomow%3D&amp;hl=ml&amp;source=homepage&amp;sa=X&amp;ved=0ahUKEwjrrq_6q_z3AhVfFLkGHUC_ChsQ2ZgBCAw\">&#3374;&#3378;&#3375;&#3390;&#3379;&#3330;</a>    <a href=\"https://www.google.com/setprefs?sig=0_vbi_s3WdBKCQAeR4tkDqNfbomow%3D&amp;hl=pa&amp;source=homepage&amp;sa=X&amp;ved=0ahUKEwjrrq_6q_z3AhVfFLkGHUC_ChsQ2ZgBCA0\">&#2602;&#2672;&#2588;&#2622;&#2604;&#2624;</a>  </div></div></div><span id=\"footer\"><div style=\"font-size:10pt\"><div style=\"margin:19px auto;text-align:center\" id=\"WqQANb\"><a href=\"/intl/en/ads/\">Advertising Programs</a><a href=\"http://www.google.co.in/services/\">Business Solutions</a><a href=\"/intl/en/about.html\">About Google</a><a href=\"https://www.google.com/setprefdomain?prefdom=IN&amp;prev=https://www.google.co.in/&amp;sig=K_Y5DaF-k5PQbbF11-ib7aChMCql8%3D\">Google.co.in</a></div></div><p style=\"font-size:8pt;color:#70757a\">&copy; 2022 - <a href=\"/intl/en/policies/privacy/\">Privacy</a> - <a href=\"/intl/en/policies/terms/\">Terms</a></p></span></center><script nonce=\"uPg30B5cHwdbcYlKO9iyUw\">(function(){window.google.cdo={height:757,width:1440};(function(){\n",
      "var a=window.innerWidth,b=window.innerHeight;if(!a||!b){var c=window.document,d=\"CSS1Compat\"==c.compatMode?c.documentElement:c.body;a=d.clientWidth;b=d.clientHeight}a&&b&&(a!=google.cdo.width||b!=google.cdo.height)&&google.log(\"\",\"\",\"/client_204?&atyp=i&biw=\"+a+\"&bih=\"+b+\"&ei=\"+google.kEI);}).call(this);})();</script> <script nonce=\"uPg30B5cHwdbcYlKO9iyUw\">(function(){google.xjs={ck:'',cs:'',excm:[]};})();</script>  <script nonce=\"uPg30B5cHwdbcYlKO9iyUw\">(function(){var u='/xjs/_/js/k\\x3dxjs.hp.en.QALVKHyJnyI.O/am\\x3dAOAJAEACkA/d\\x3d1/ed\\x3d1/esmo\\x3d1/rs\\x3dACT90oGHZYODLU0-24riwDUwwObtnpU6kQ/m\\x3dsb_he,d';\n",
      "var d=this||self,e=function(a){return a};var g;var l=function(a,b){this.g=b===h?a:\"\"};l.prototype.toString=function(){return this.g+\"\"};var h={};\n",
      "function n(){var a=u;google.lx=function(){p(a);google.lx=function(){}};google.bx||google.lx()}\n",
      "function p(a){google.timers&&google.timers.load&&google.tick&&google.tick(\"load\",\"xjsls\");var b=document;var c=\"SCRIPT\";\"application/xhtml+xml\"===b.contentType&&(c=c.toLowerCase());c=b.createElement(c);if(void 0===g){b=null;var k=d.trustedTypes;if(k&&k.createPolicy){try{b=k.createPolicy(\"goog#html\",{createHTML:e,createScript:e,createScriptURL:e})}catch(q){d.console&&d.console.error(q.message)}g=b}else g=b}a=(b=g)?b.createScriptURL(a):a;a=new l(a,h);c.src=a instanceof l&&a.constructor===l?a.g:\"type_error:TrustedResourceUrl\";var f,m;(f=(a=null==(m=(f=(c.ownerDocument&&c.ownerDocument.defaultView||window).document).querySelector)?void 0:m.call(f,\"script[nonce]\"))?a.nonce||a.getAttribute(\"nonce\")||\"\":\"\")&&c.setAttribute(\"nonce\",f);document.body.appendChild(c);google.psa=!0};google.xjsu=u;setTimeout(function(){n()},0);})();function _DumpException(e){throw e;}\n",
      "function _F_installCss(c){}\n",
      "(function(){google.jl={attn:false,blt:'none',chnk:0,dw:false,dwu:true,emtn:0,end:0,ine:false,injs:'none',injt:0,lls:'default',pdt:0,rep:0,snet:true,strt:0,ubm:false,uwp:true};})();(function(){var pmc='{\\x22d\\x22:{},\\x22sb_he\\x22:{\\x22agen\\x22:true,\\x22cgen\\x22:true,\\x22client\\x22:\\x22heirloom-hp\\x22,\\x22dh\\x22:true,\\x22dhqt\\x22:true,\\x22ds\\x22:\\x22\\x22,\\x22ffql\\x22:\\x22en\\x22,\\x22fl\\x22:true,\\x22host\\x22:\\x22google.com\\x22,\\x22isbh\\x22:28,\\x22jsonp\\x22:true,\\x22msgs\\x22:{\\x22cibl\\x22:\\x22Clear Search\\x22,\\x22dym\\x22:\\x22Did you mean:\\x22,\\x22lcky\\x22:\\x22I\\\\u0026#39;m Feeling Lucky\\x22,\\x22lml\\x22:\\x22Learn more\\x22,\\x22oskt\\x22:\\x22Input tools\\x22,\\x22psrc\\x22:\\x22This search was removed from your \\\\u003Ca href\\x3d\\\\\\x22/history\\\\\\x22\\\\u003EWeb History\\\\u003C/a\\\\u003E\\x22,\\x22psrl\\x22:\\x22Remove\\x22,\\x22sbit\\x22:\\x22Search by image\\x22,\\x22srch\\x22:\\x22Google Search\\x22},\\x22ovr\\x22:{},\\x22pq\\x22:\\x22\\x22,\\x22refpd\\x22:true,\\x22rfs\\x22:[],\\x22sbas\\x22:\\x220 3px 8px 0 rgba(0,0,0,0.2),0 0 0 1px rgba(0,0,0,0.08)\\x22,\\x22sbpl\\x22:16,\\x22sbpr\\x22:16,\\x22scd\\x22:10,\\x22stok\\x22:\\x22h-LQluqoCOeysv9E-O7fzp3FZoA\\x22,\\x22uhde\\x22:false}}';google.pmc=JSON.parse(pmc);})();</script>        </body></html>\n"
     ]
    }
   ],
   "source": [
    "# Fetch some data from some url using request library in python ...\n",
    "import requests\n",
    "resp = requests.get('https://www.google.com/search')\n",
    "print(resp.text)"
   ]
  },
  {
   "cell_type": "code",
   "execution_count": 57,
   "id": "1ba63c8f",
   "metadata": {},
   "outputs": [],
   "source": [
    "# Which is the most challenging code you ever wrote ?"
   ]
  },
  {
   "cell_type": "code",
   "execution_count": 58,
   "id": "273d18d7",
   "metadata": {},
   "outputs": [],
   "source": [
    "# Task Schedular ? - any idea"
   ]
  },
  {
   "cell_type": "code",
   "execution_count": 59,
   "id": "1104bb1b",
   "metadata": {},
   "outputs": [],
   "source": [
    "# How you deploy your project on production ?"
   ]
  },
  {
   "cell_type": "code",
   "execution_count": 60,
   "id": "ce350390",
   "metadata": {},
   "outputs": [],
   "source": [
    "# How to create Dockerfile ?"
   ]
  }
 ],
 "metadata": {
  "kernelspec": {
   "display_name": "Python 3 (ipykernel)",
   "language": "python",
   "name": "python3"
  },
  "language_info": {
   "codemirror_mode": {
    "name": "ipython",
    "version": 3
   },
   "file_extension": ".py",
   "mimetype": "text/x-python",
   "name": "python",
   "nbconvert_exporter": "python",
   "pygments_lexer": "ipython3",
   "version": "3.8.5"
  }
 },
 "nbformat": 4,
 "nbformat_minor": 5
}
