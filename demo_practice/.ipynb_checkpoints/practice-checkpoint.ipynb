{
 "cells": [
  {
   "cell_type": "code",
   "execution_count": 1,
   "id": "dce83eee",
   "metadata": {},
   "outputs": [],
   "source": [
    "# 1. print required output\n",
    "# Input - hello,world,nitin\n",
    "# Output - nitin,world,hello"
   ]
  },
  {
   "cell_type": "code",
   "execution_count": 2,
   "id": "942d1d46",
   "metadata": {},
   "outputs": [],
   "source": [
    "s = 'hello,world,nitin'"
   ]
  },
  {
   "cell_type": "code",
   "execution_count": 4,
   "id": "e9522d8f",
   "metadata": {},
   "outputs": [
    {
     "data": {
      "text/plain": [
       "'nitin,world,hello'"
      ]
     },
     "execution_count": 4,
     "metadata": {},
     "output_type": "execute_result"
    }
   ],
   "source": [
    "','.join(s.split(',')[::-1])"
   ]
  },
  {
   "cell_type": "code",
   "execution_count": 32,
   "id": "4a280c52",
   "metadata": {},
   "outputs": [],
   "source": [
    "# 2. Fibonacci series\n",
    "def fib(n):\n",
    "    if n <= 1:\n",
    "        return n\n",
    "    else:\n",
    "        return fib(n-1) + fib(n-2)"
   ]
  },
  {
   "cell_type": "code",
   "execution_count": 33,
   "id": "b7cfaf57",
   "metadata": {},
   "outputs": [
    {
     "name": "stdout",
     "output_type": "stream",
     "text": [
      "[0, 1, 1, 2, 3, 5, 8, 13, 21, 34]\n"
     ]
    }
   ],
   "source": [
    "nterms = 9\n",
    "if nterms <= 0:\n",
    "    print(\"Invalid input\")\n",
    "else:\n",
    "    print([fib(i) for i in range(nterms+1)])"
   ]
  },
  {
   "cell_type": "code",
   "execution_count": 34,
   "id": "939b5233",
   "metadata": {},
   "outputs": [],
   "source": [
    "# 3. Print required output\n",
    "# input - abcdef , fibonacci - 112358\n",
    "# output - 20a1b1c2d3e5f8 (Sum + input + fibonacci)"
   ]
  },
  {
   "cell_type": "code",
   "execution_count": 35,
   "id": "3d12b062",
   "metadata": {},
   "outputs": [
    {
     "name": "stdout",
     "output_type": "stream",
     "text": [
      "20a1b1c2d3e5f8\n"
     ]
    }
   ],
   "source": [
    "s1 = 'abcdef'\n",
    "fibo = [1, 1, 2, 3, 5, 8]\n",
    "print(str(sum(fibo)) + ''.join([char1 + str(int1) for char1, int1 in zip(s1, fibo)]))"
   ]
  },
  {
   "cell_type": "code",
   "execution_count": 36,
   "id": "ce43966c",
   "metadata": {},
   "outputs": [
    {
     "name": "stdout",
     "output_type": "stream",
     "text": [
      "iulogkivuos\n"
     ]
    }
   ],
   "source": [
    "# 4. Reverse the string\n",
    "s = 'souvikgolui'\n",
    "print(s[::-1])"
   ]
  },
  {
   "cell_type": "code",
   "execution_count": 37,
   "id": "f373f07b",
   "metadata": {},
   "outputs": [
    {
     "data": {
      "text/plain": [
       "['hello', 'world']"
      ]
     },
     "execution_count": 37,
     "metadata": {},
     "output_type": "execute_result"
    }
   ],
   "source": [
    "# 5. What is a decorator ? Explain it with an example.\n",
    "# decorator function to convert to lowercase\n",
    "def lowercase_decorator(function):\n",
    "   def wrapper():\n",
    "       func = function()\n",
    "       string_lowercase = func.lower()\n",
    "       return string_lowercase\n",
    "   return wrapper\n",
    "# decorator function to split words\n",
    "def splitter_decorator(function):\n",
    "   def wrapper():\n",
    "       func = function()\n",
    "       string_split = func.split()\n",
    "       return string_split\n",
    "   return wrapper\n",
    "@splitter_decorator # this is executed next\n",
    "@lowercase_decorator # this is executed first\n",
    "def hello():\n",
    "   return 'Hello World'\n",
    "hello()   # output => [ 'hello' , 'world' ]"
   ]
  },
  {
   "cell_type": "code",
   "execution_count": 40,
   "id": "e8c360cb",
   "metadata": {},
   "outputs": [
    {
     "name": "stdout",
     "output_type": "stream",
     "text": [
      "A\n",
      "B\n",
      "C\n"
     ]
    }
   ],
   "source": [
    "# What are Python Iterators ?\n",
    "# An iterator is an object which contains a countable number of values and it is used to iterate over iterable objects\n",
    "# like list, tuple, sets, etc.\n",
    "# Every iterator is not a generator.\n",
    "iter_list = iter(['A', 'B', 'C'])\n",
    "print(next(iter_list))\n",
    "print(next(iter_list))\n",
    "print(next(iter_list))"
   ]
  },
  {
   "cell_type": "code",
   "execution_count": 41,
   "id": "3264d929",
   "metadata": {},
   "outputs": [],
   "source": [
    "# Have you ever used numpy or pandas ?\n",
    "# How to read a large CSV file (> 10 GB).\n",
    "\n",
    "# import pandas as pd\n",
    "# textFileReader = pd.read_csv('csv_file_name.csv', chunksize=10)\n",
    "# with pd.read_csv(\"csv_file_name.csv\", sep=\"|\", chunksize=10) as reader:\n",
    "#     for chunk in reader:\n",
    "#         print(chunk)"
   ]
  },
  {
   "cell_type": "code",
   "execution_count": 42,
   "id": "d148d368",
   "metadata": {},
   "outputs": [],
   "source": [
    "# What is MRO in python ?\n",
    "# MRO means Method Resolution Order\n",
    "# https://www.geeksforgeeks.org/method-resolution-order-in-python-inheritance/"
   ]
  },
  {
   "cell_type": "code",
   "execution_count": 43,
   "id": "909ef241",
   "metadata": {},
   "outputs": [],
   "source": [
    "# What is Lambda Function ?\n",
    "# "
   ]
  },
  {
   "cell_type": "code",
   "execution_count": 44,
   "id": "f37357cd",
   "metadata": {},
   "outputs": [],
   "source": [
    "# How to load bulk files in pandas ?\n",
    "import pandas as pd\n",
    "df1 = pd.DataFrame().from_dict({'col1': [1, 2, 3], 'col2': ['A', 'B', 'C']})\n",
    "df2 = pd.DataFrame().from_dict({'col3': [1, 2, 3], 'col2': ['A', 'B', 'C']})\n",
    "pd.concat"
   ]
  },
  {
   "cell_type": "markdown",
   "id": "6dd236c8",
   "metadata": {},
   "source": [
    "# Second Round"
   ]
  },
  {
   "cell_type": "code",
   "execution_count": 46,
   "id": "12e7ec28",
   "metadata": {},
   "outputs": [],
   "source": [
    "# 1. Tell me about ypurself"
   ]
  },
  {
   "cell_type": "code",
   "execution_count": 48,
   "id": "b286b383",
   "metadata": {},
   "outputs": [],
   "source": [
    "# 2. Tell me about your projects that are relevant to the job."
   ]
  },
  {
   "cell_type": "code",
   "execution_count": 50,
   "id": "324b9cdb",
   "metadata": {},
   "outputs": [],
   "source": [
    "# 3. What is Lambda Function ?"
   ]
  },
  {
   "cell_type": "code",
   "execution_count": 51,
   "id": "efd2c6ae",
   "metadata": {},
   "outputs": [],
   "source": [
    "# 4. Reverse a list withou using any predefined function ."
   ]
  },
  {
   "cell_type": "code",
   "execution_count": 53,
   "id": "323ae88f",
   "metadata": {},
   "outputs": [],
   "source": [
    "# Which libraries you have worked in python. - json, os, numpy, pandas, request"
   ]
  },
  {
   "cell_type": "code",
   "execution_count": 55,
   "id": "813cfeab",
   "metadata": {},
   "outputs": [],
   "source": [
    "# How request library you used ? - in Django Project "
   ]
  },
  {
   "cell_type": "code",
   "execution_count": 56,
   "id": "0940d9c2",
   "metadata": {},
   "outputs": [],
   "source": [
    "# Fetch some data from some url using request library in python ..."
   ]
  },
  {
   "cell_type": "code",
   "execution_count": 57,
   "id": "1ba63c8f",
   "metadata": {},
   "outputs": [],
   "source": [
    "# Which is the most challenging code you ever wrote ?"
   ]
  },
  {
   "cell_type": "code",
   "execution_count": 58,
   "id": "273d18d7",
   "metadata": {},
   "outputs": [],
   "source": [
    "# Task Schedular ? - any idea"
   ]
  },
  {
   "cell_type": "code",
   "execution_count": 59,
   "id": "1104bb1b",
   "metadata": {},
   "outputs": [],
   "source": [
    "# How you deploy your project on production ?"
   ]
  },
  {
   "cell_type": "code",
   "execution_count": 60,
   "id": "ce350390",
   "metadata": {},
   "outputs": [],
   "source": [
    "# How to create Dockerfile ?"
   ]
  },
  {
   "cell_type": "code",
   "execution_count": null,
   "id": "777dc2d2",
   "metadata": {},
   "outputs": [],
   "source": []
  },
  {
   "cell_type": "code",
   "execution_count": null,
   "id": "29ef70b6",
   "metadata": {},
   "outputs": [],
   "source": []
  },
  {
   "cell_type": "code",
   "execution_count": 61,
   "id": "a554ab47",
   "metadata": {},
   "outputs": [],
   "source": [
    "# 12 Factor methodology"
   ]
  },
  {
   "cell_type": "code",
   "execution_count": 62,
   "id": "bbed928f",
   "metadata": {},
   "outputs": [],
   "source": [
    "# How do ypu print the first non-repeated character from a string ?"
   ]
  },
  {
   "cell_type": "code",
   "execution_count": 63,
   "id": "8a4bda1f",
   "metadata": {},
   "outputs": [],
   "source": [
    "# Find the Longest Substring without repeating characters ?"
   ]
  },
  {
   "cell_type": "code",
   "execution_count": null,
   "id": "eb371e93",
   "metadata": {},
   "outputs": [],
   "source": []
  }
 ],
 "metadata": {
  "kernelspec": {
   "display_name": "Python 3 (ipykernel)",
   "language": "python",
   "name": "python3"
  },
  "language_info": {
   "codemirror_mode": {
    "name": "ipython",
    "version": 3
   },
   "file_extension": ".py",
   "mimetype": "text/x-python",
   "name": "python",
   "nbconvert_exporter": "python",
   "pygments_lexer": "ipython3",
   "version": "3.8.5"
  }
 },
 "nbformat": 4,
 "nbformat_minor": 5
}
