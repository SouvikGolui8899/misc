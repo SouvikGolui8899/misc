{
 "cells": [
  {
   "cell_type": "markdown",
   "id": "600f5127",
   "metadata": {},
   "source": [
    "# What is the command to install Django and check its version ?"
   ]
  },
  {
   "cell_type": "markdown",
   "id": "44a8e1c4",
   "metadata": {},
   "source": [
    "## Command to install Django \n",
    "#### pip install django\n",
    "\n",
    "## Command to check its version\n",
    "#### python -m django --version\n",
    "\n",
    "## Command to check all versions of installed module\n",
    "#### pip freeze "
   ]
  },
  {
   "cell_type": "markdown",
   "id": "a4637bb3",
   "metadata": {},
   "source": [
    "# What is the command to create a project and an app in Django ?\n",
    "\n",
    "## Command to create a project\n",
    "#### django-admin startproject project-name .\n",
    "\n",
    "## Command to create an App\n",
    "#### python manage.py startapp app-name"
   ]
  },
  {
   "cell_type": "markdown",
   "id": "2738ad65",
   "metadata": {},
   "source": [
    "# What is the command to run a project in Django ?\n",
    "\n",
    "## Command to run a project\n",
    "#### python manage.py runserver\n",
    "Note: By default this command starts the development server on the internal IP at port 8000.\n",
    "\n",
    "If you want to change the server's port, pass it as a command-line argument.\n",
    "\n",
    "For instance, this command starts the server on port 8080:\n",
    "\n",
    "#### python manage.py runserver 8080\n",
    "\n",
    "If you want to change the server's IP, pass it along with the port, use:\n",
    "\n",
    "#### python manage.py runserver 0.0.0.0:8080"
   ]
  },
  {
   "cell_type": "markdown",
   "id": "63ddc8c1",
   "metadata": {},
   "source": [
    "# What is the command for migrations in Django ?\n",
    "\n",
    "## Command to create a migration file in the migration folder\n",
    "#### python manage.py makemigrations\n",
    "\n",
    "## After  creating the migration, to reflect changes in the database permanently execute migrate command:\n",
    "#### python manage.py migrate\n",
    "\n",
    "## To see raw SQL queries executing behind applied migration execute the command:\n",
    "#### python manage.py sqlmigrate app_name migration_name\n",
    "#### python manage.py sqlmigarte app-name 0001\n",
    "\n",
    "## To see all migrations, execute this command:\n",
    "#### python manage.py showmigrations\n",
    "\n",
    "## To see app-specific migrations, execute this command:\n",
    "#### python manage.py showmigrations app-name"
   ]
  },
  {
   "cell_type": "markdown",
   "id": "4a2ce573",
   "metadata": {},
   "source": [
    "# What is the command to create a superuser in Django ?\n",
    "\n",
    "## Command to create a superuser:\n",
    "#### python manage.py createsuperuser"
   ]
  },
  {
   "cell_type": "markdown",
   "id": "c28f977c",
   "metadata": {},
   "source": [
    "# What is the command to view the Database Schema of an existing (or legacy) database ?\n",
    "\n",
    "## Command to view a database schema of an existing or legacy database:\n",
    "#### python manage.py inspectdb"
   ]
  },
  {
   "cell_type": "markdown",
   "id": "8d0df869",
   "metadata": {},
   "source": [
    "# How to view all Items in the Model using Django QuerySet ?\n",
    "\n",
    "## Command to View all items in a Model:\n",
    "#### Users.objects.all()\n",
    "where \"Users\" is a model name."
   ]
  },
  {
   "cell_type": "markdown",
   "id": "0e56f004",
   "metadata": {},
   "source": [
    "# How to filter items in the model using Django QuerySet ?\n",
    "\n",
    "## Command to filter items in a model:\n",
    "#### Users.model.filter(name=\"Souvik\")\n",
    "where \"Users\" is a model name."
   ]
  },
  {
   "cell_type": "markdown",
   "id": "3592716f",
   "metadata": {},
   "source": [
    "# How to get a particular item in the model using Django QuerySet ?\n",
    "\n",
    "## Django command to get a particluar item in the model:\n",
    "#### Users.obejcts.get(id=25)\n",
    "where \"Users\" is a model name."
   ]
  },
  {
   "cell_type": "markdown",
   "id": "e2c85b26",
   "metadata": {},
   "source": [
    "# How to insert / delete / update an object using the Django QuerySet ?\n",
    "\n",
    "## QuerySet to delete an object:\n",
    "#### Users.obejcts.filter(id=54).delete()\n",
    "\n",
    "## QuerySet to update an obejct:\n",
    "#### users_to_modify = Users.objects.get(pk=3)\n",
    "#### users_to_modify.city = \"Kolkata\"\n",
    "#### users_to_modify.save()\n",
    "\n",
    "## QuerySet to insert or add an obejct:\n",
    "#### new_user = User(name=\"Souvik Golui\", city=\"Kolkata\")\n",
    "#### new_user.save()"
   ]
  },
  {
   "cell_type": "markdown",
   "id": "e98f7c1f",
   "metadata": {},
   "source": [
    "# How you can combine multiple QuerySets in a view ?\n",
    "\n",
    "## Lets suppose the following two models in Django ...\n",
    "\n",
    "#### class Blog(models.Model):\n",
    "####      title = models.CharField(max_length=255)\n",
    "####      content = models.TextField(blank=True)\n",
    "\n",
    "####  class Email(models.Model):\n",
    "####      title = models.CharField(max_length=255)\n",
    "####      content = models.TextField(blank=True)\n",
    "\n",
    "## Lets suppose that you have three QuerySets generated from above models, that you want to combine.\n",
    "\n",
    "#### queryset_1 = Blog.objects.filter(id__gte=3)\n",
    "#### queryset_2 = Email.objects.filter(id__lte=11)\n",
    "#### queryset_3 = Blog.objects.filter(id__gte=2)\n",
    "\n",
    "## 1. Using the Union Operator:\n",
    "#### If both querysets belong to the same model, such as queryset_1 and queryset_3 above, then you can use Union Operator \"|\" to easily combine those querysets.\n",
    "#### queryset_result = queryset_1 | queryset_3\n",
    "\n",
    "#### You can use the uion operator to combine two or more querysets, as shown below:\n",
    "#### combined_result = queryset_1 | queryset_2 | queryset_3 | queryset_4 ... \n",
    "\n",
    "## 2. Using the Itertools:\n",
    "#### If both querysets belong to different models, such as queryset_1 and queryset_2, then you the itertools to combine those querysets\n",
    "#### from itertools import chain\n",
    "#### combined_list = list(chain(queryset_1, queryset_2))\n",
    "#### You just need to specify the querysets you want to combine in a comma-separated manner in chain function. You can also use it to combine more than two querysets.\n",
    "#### combined_list = list(chain(queryset_1, queryset_2, queryset_3))\n",
    "\n",
    "#### Note: There is an issue with this approach, you won't get a queryset, you'll get a list containing instances."
   ]
  },
  {
   "cell_type": "markdown",
   "id": "f0ff6067",
   "metadata": {},
   "source": [
    "# Mostly Asked"
   ]
  },
  {
   "cell_type": "markdown",
   "id": "9c291fac",
   "metadata": {},
   "source": [
    "## Explain Django Architecture ? Or Explain Models, Views or Templates.\n",
    "\n",
    "#### Django follows a software design pattern known as MVT (Model View Template) Architecture.\n",
    "#### It is based on the Model View Controller (MVC) Architecture. But it is slightly different from the MVC pattern because it maintians its own conventions, so, the controller is controlled by the framework itself.\n",
    "\n",
    "#### Model: It helps in handling the database (Models). They provide the options to create, edit and query data records in the database.\n",
    "\n",
    "#### Template: The template is a presentation layer. It defines the structure of file layout to represent data in the web page. It is an HTML file mixed with the Django Template Language(DTL).\n",
    "\n",
    "#### View: The View is used to execute the business logic and interact with the model to carry data and renders a template."
   ]
  },
  {
   "cell_type": "code",
   "execution_count": null,
   "id": "3c862384",
   "metadata": {},
   "outputs": [],
   "source": []
  }
 ],
 "metadata": {
  "kernelspec": {
   "display_name": "Python 3 (ipykernel)",
   "language": "python",
   "name": "python3"
  },
  "language_info": {
   "codemirror_mode": {
    "name": "ipython",
    "version": 3
   },
   "file_extension": ".py",
   "mimetype": "text/x-python",
   "name": "python",
   "nbconvert_exporter": "python",
   "pygments_lexer": "ipython3",
   "version": "3.8.5"
  }
 },
 "nbformat": 4,
 "nbformat_minor": 5
}
